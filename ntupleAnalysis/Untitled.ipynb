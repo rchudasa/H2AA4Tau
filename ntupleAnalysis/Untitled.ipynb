{
 "cells": [
  {
   "cell_type": "code",
   "execution_count": 1,
   "id": "0c176c42",
   "metadata": {},
   "outputs": [
    {
     "name": "stdout",
     "output_type": "stream",
     "text": [
      "Welcome to JupyROOT 6.26/08\n"
     ]
    }
   ],
   "source": [
    "import pyarrow.parquet as pq\n",
    "import pyarrow as pa # pip install pyarrow==0.7.1\n",
    "import ROOT\n",
    "import numpy as np\n",
    "import glob, os\n",
    "from skimage.measure import block_reduce # pip install scikit-image\n",
    "from numpy.lib.stride_tricks import as_strided"
   ]
  },
  {
   "cell_type": "code",
   "execution_count": 4,
   "id": "21e2b634",
   "metadata": {},
   "outputs": [
    {
     "name": "stdout",
     "output_type": "stream",
     "text": [
      "/eos/home-i02/r/rchudasa/SWAN_projects/e2e/H2AA4Tau/ntupleAnalysis\r\n"
     ]
    }
   ],
   "source": [
    "!pwd"
   ]
  },
  {
   "cell_type": "code",
   "execution_count": 9,
   "id": "3a398efd",
   "metadata": {},
   "outputs": [
    {
     "name": "stdout",
     "output_type": "stream",
     "text": [
      " >> Input file: /eos/home-i02/r/rchudasa/e2e_project/Tau_data_ntuples/output_10.root\n",
      " >> nEvts: 364\n"
     ]
    }
   ],
   "source": [
    "infile = \"/eos/home-i02/r/rchudasa/e2e_project/Tau_data_ntuples/output_10.root\"\n",
    "rhTreeStr = infile \n",
    "rhTree = ROOT.TChain(\"fevt/RHTree\")\n",
    "rhTree.Add(infile)\n",
    "nEvts = rhTree.GetEntries()\n",
    "assert nEvts > 0\n",
    "print (\" >> Input file:\",rhTreeStr)\n",
    "print (\" >> nEvts:\",nEvts)"
   ]
  },
  {
   "cell_type": "code",
   "execution_count": 11,
   "id": "8c87fb84",
   "metadata": {},
   "outputs": [
    {
     "name": "stdout",
     "output_type": "stream",
     "text": [
      " >> Processing entries: [ 0 -> 364 )\n",
      " .. Processing entry 0\n",
      "[10.842305 10.750518]\n",
      " .. Processing entry 10\n",
      "[11.045278 11.887167]\n",
      " .. Processing entry 20\n",
      "[10.437284 10.617521  5.400527  7.72779 ]\n",
      " .. Processing entry 30\n",
      "[11.884078  8.659902]\n",
      " .. Processing entry 40\n",
      "[14.669067 10.592482]\n",
      " .. Processing entry 50\n",
      "[11.645905]\n",
      " .. Processing entry 60\n",
      "[ 8.100396  9.317153 11.918108]\n",
      " .. Processing entry 70\n",
      "[13.342844 10.037552]\n",
      " .. Processing entry 80\n",
      "[ 9.596366 10.784678]\n",
      " .. Processing entry 90\n",
      "[13.600814 13.871548]\n",
      " .. Processing entry 100\n",
      "[10.031272 10.490758]\n",
      " .. Processing entry 110\n",
      "[8.742737 8.532139]\n",
      " .. Processing entry 120\n",
      "[7.694813 7.039676]\n",
      " .. Processing entry 130\n",
      "[10.193784  9.573829]\n",
      " .. Processing entry 140\n",
      "[ 9.493579 10.135553]\n",
      " .. Processing entry 150\n",
      "[8.075564]\n",
      " .. Processing entry 160\n",
      "[10.270965]\n",
      " .. Processing entry 170\n",
      "[10.307127   6.2593374]\n",
      " .. Processing entry 180\n",
      "[11.790909   6.6537004]\n",
      " .. Processing entry 190\n",
      "[9.659735]\n",
      " .. Processing entry 200\n",
      "[12.82027   8.060829]\n",
      " .. Processing entry 210\n",
      "[8.5284395 9.762937 ]\n",
      " .. Processing entry 220\n",
      "[10.974841   7.9232545]\n",
      " .. Processing entry 230\n",
      "[7.989486]\n",
      " .. Processing entry 240\n",
      "[9.294266 4.263179]\n",
      " .. Processing entry 250\n",
      "[9.20597  9.210681]\n",
      " .. Processing entry 260\n",
      "[12.9981575]\n",
      " .. Processing entry 270\n",
      "[9.772922  8.4684515]\n",
      " .. Processing entry 280\n",
      "[12.981219 10.962966]\n",
      " .. Processing entry 290\n",
      "[12.931249  6.977399]\n",
      " .. Processing entry 300\n",
      "[10.49266   7.474707]\n",
      " .. Processing entry 310\n",
      "[9.798138]\n",
      " .. Processing entry 320\n",
      "[10.400152   7.6534076]\n",
      " .. Processing entry 330\n",
      "[10.041922]\n",
      " .. Processing entry 340\n",
      "[22.733093  8.723342]\n",
      " .. Processing entry 350\n",
      "[11.712064  9.510123]\n",
      " .. Processing entry 360\n",
      "[8.952978]\n"
     ]
    }
   ],
   "source": [
    "# Event range to process\n",
    "iEvtStart = 0\n",
    "#iEvtEnd   = 10\n",
    "iEvtEnd   = nEvts \n",
    "assert iEvtEnd <= nEvts\n",
    "print (\" >> Processing entries: [\",iEvtStart,\"->\",iEvtEnd,\")\")\n",
    "\n",
    "nJets = 0\n",
    "data = {} # Arrays to be written to parquet should be saved to data dict\n",
    "sw = ROOT.TStopwatch()\n",
    "sw.Start()\n",
    "for iEvt in range(iEvtStart,iEvtEnd):\n",
    "\n",
    "    # Initialize event\n",
    "    rhTree.GetEntry(iEvt)\n",
    "\n",
    "    if iEvt % 10 == 0:\n",
    "        print (\" .. Processing entry\",iEvt)\n",
    "        jet_mass = np.array(rhTree.jetM)\n",
    "        print(jet_mass)"
   ]
  },
  {
   "cell_type": "code",
   "execution_count": 15,
   "id": "7e314529",
   "metadata": {},
   "outputs": [
    {
     "data": {
      "text/plain": [
       "<AxesSubplot:ylabel='Count'>"
      ]
     },
     "execution_count": 15,
     "metadata": {},
     "output_type": "execute_result"
    },
    {
     "data": {
      "image/png": "[encoded data removed]",
      "text/plain": [
       "<Figure size 432x288 with 1 Axes>"
      ]
     },
     "metadata": {
      "needs_background": "light"
     },
     "output_type": "display_data"
    }
   ],
   "source": [
    "import matplotlib.pyplot as plt\n",
    "import seaborn as sns\n",
    "sns.histplot(data=jet_mass.tolist(),bins=100)"
   ]
  },
  {
   "cell_type": "code",
   "execution_count": null,
   "id": "1ab404fe",
   "metadata": {},
   "outputs": [],
   "source": []
  }
 ],
 "metadata": {
  "@webio": {
   "lastCommId": null,
   "lastKernelId": null
  },
  "kernelspec": {
   "display_name": "Python 3",
   "language": "python",
   "name": "python3"
  },
  "language_info": {
   "codemirror_mode": {
    "name": "ipython",
    "version": 3
   },
   "file_extension": ".py",
   "mimetype": "text/x-python",
   "name": "python",
   "nbconvert_exporter": "python",
   "pygments_lexer": "ipython3",
   "version": "3.9.12"
  }
 },
 "nbformat": 4,
 "nbformat_minor": 5
}
